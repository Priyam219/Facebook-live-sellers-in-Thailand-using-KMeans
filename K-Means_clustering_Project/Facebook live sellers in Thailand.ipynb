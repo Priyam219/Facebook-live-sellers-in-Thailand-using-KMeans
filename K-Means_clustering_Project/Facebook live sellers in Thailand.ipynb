{
 "cells": [
  {
   "cell_type": "markdown",
   "id": "024e3b9e",
   "metadata": {},
   "source": [
    "# K-Means Clustering with Python"
   ]
  },
  {
   "cell_type": "markdown",
   "id": "ec4497b9",
   "metadata": {},
   "source": [
    "<p> <blockquote>K-Means clustering is the most popular unsupervised machine learning algorithm. K-Means clustering is used to find intrinsic groups within the unlabelled dataset and draw inferences from them. I have used <span style=\"color:red\">Facebook Live Sellers in Thailand dataset</span> for this project. I implement K-Means clustering to find intrinsic groups within this dataset that display the same <span style=\"color:blue\">status_type</span> behaviour. The <span style=\"color:blue\">status_type</span> behaviour variable consists of posts of a different nature (video, photos, statuses and links)</p>\n"
   ]
  },
  {
   "cell_type": "markdown",
   "id": "f29cc7af",
   "metadata": {},
   "source": [
    "# Table of Content :"
   ]
  },
  {
   "cell_type": "markdown",
   "id": "82fa1f52",
   "metadata": {},
   "source": [
    "<ul>\n",
    "    <li>introduction to K-Means Clustering</li>\n",
    "    <li>K-Means Clustering intuition</li>\n",
    "    <li>Choosing the value of K</li>\n",
    "    <li>The elbow method</li>\n",
    "    <li>The problem statement</li>\n",
    "    <li>Dataset description</li>\n",
    "    <li>Import libraries</li>\n",
    "    <li>Import dataset</li>\n",
    "    <li>Exploratory data analysis</li>\n",
    "    <li>Declare feature vector and target variable</li>\n",
    "    <li>Convert categorical variable into integers</li>\n",
    "    <li>Feature scaling</li>\n",
    "    <li>K-Means model with two clusters</li>\n",
    "    <li>K-Means model parameters study</li>\n",
    "    <li>Check quality of weak classification by the model</li>\n",
    "    <li>Use elbow method to find optimal number of clusters</li>\n",
    "    <li>K-Means model with different clusters</li>\n",
    "    <li>Results and conclusion</li>\n",
    "    </ul>"
   ]
  },
  {
   "cell_type": "markdown",
   "id": "1cbf3af3",
   "metadata": {},
   "source": [
    "# Introduction to K-Means Clustering :"
   ]
  },
  {
   "cell_type": "markdown",
   "id": "704d1db5",
   "metadata": {},
   "source": [
    "<p> Machine learning algorithms can be broadly classified into two categories - supervised and unsupervised learning. There are other categories also like semi-supervised learning and reinforcement learning. But, most of the algorithms are classified as supervised or unsupervised learning. The difference between them happens because of presence of target variable. In unsupervised learning, there is no target variable. The dataset only has input variables which describe the data. This is called unsupervised learning.</p> <br>\n",
    "<p><b>K-Means clustering</b> is the most popular unsupervised learning algorithm. It is used when we have unlabelled data which is data without defined categories or groups. The algorithm follows an easy or simple way to classify a given data set through a certain number of clusters, fixed apriori. K-Means algorithm works iteratively to assign each data point to one of K groups based on the features that are provided. Data points are clustered based on feature similarity.</p>"
   ]
  },
  {
   "cell_type": "markdown",
   "id": "f61422da",
   "metadata": {},
   "source": [
    "# K-Means Clustering intuition :"
   ]
  },
  {
   "cell_type": "markdown",
   "id": "334528ca",
   "metadata": {},
   "source": [
    "<p>K-Means clustering is used to find intrinsic groups within the unlabelled dataset and draw inferences from them. It is based on centroid-based clustering.</p><br>\n",
    "<p><b>Centroid</b> - A centroid is a data point at the centre of a cluster. In centroid-based clustering, clusters are represented by a centroid. It is an iterative algorithm in which the notion of similarity is derived by how close a data point is to the centroid of the cluster. K-Means clustering works as follows:- The K-Means clustering algorithm uses an iterative procedure to deliver a final result. The algorithm requires number of clusters K and the data set as input. The data set is a collection of features for each data point. The algorithm starts with initial estimates for the K centroids. The algorithm then iterates between two steps:-</p><br>\n",
    "<p><b><em>1. Data assignment step : </em></b></p>\n",
    "<p>Each centroid defines one of the clusters. In this step, each data point is assigned to its nearest centroid, which is based on the squared Euclidean distance. So, if ci is the collection of centroids in set C, then each data point is assigned to a cluster based on minimum Euclidean distance.</p>\n",
    "<p><b><em>2. Centroid update step : </em></b></p>\n",
    "<p>In this step, the centroids are recomputed and updated. This is done by taking the mean of all data points assigned to that centroid’s cluster.</p><br>\n",
    "<p>The algorithm then iterates between step 1 and step 2 until a stopping criteria is met. Stopping criteria means no data points change the clusters, the sum of the distances is minimized or some maximum number of iterations is reached. This algorithm is guaranteed to converge to a result. The result may be a local optimum meaning that assessing more than one run of the algorithm with randomized starting centroids may give a better outcome.</p>"
   ]
  },
  {
   "cell_type": "markdown",
   "id": "904eafe5",
   "metadata": {},
   "source": [
    "# Choosing the value of K :"
   ]
  },
  {
   "cell_type": "markdown",
   "id": "bcc7df19",
   "metadata": {},
   "source": [
    "<p>The K-Means algorithm depends upon finding the number of clusters and data labels for a pre-defined value of K. To find the number of clusters in the data, we need to run the K-Means clustering algorithm for different values of K and compare the results. So, the performance of K-Means algorithm depends upon the value of K. We should choose the optimal value of K that gives us best performance. There are different techniques available to find the optimal value of K. The most common technique is the elbow method which is described below.</p>"
   ]
  },
  {
   "cell_type": "markdown",
   "id": "5122c449",
   "metadata": {},
   "source": [
    "# The elbow method :"
   ]
  },
  {
   "cell_type": "markdown",
   "id": "4fd5b581",
   "metadata": {},
   "source": [
    "<p>The elbow method is used to determine the optimal number of clusters in K-means clustering. The elbow method plots the value of the cost function produced by different values of K.</p><br>\n",
    "<p>If K increases, average distortion will decrease. Then each cluster will have fewer constituent instances, and the instances will be closer to their respective centroids. However, the improvements in average distortion will decline as K increases. The value of K at which improvement in distortion declines the most is called the elbow, at which we should stop dividing the data into further clusters.</p>"
   ]
  },
  {
   "cell_type": "markdown",
   "id": "186db4bf",
   "metadata": {},
   "source": [
    "# The problem statement :\n"
   ]
  },
  {
   "cell_type": "markdown",
   "id": "e0201d37",
   "metadata": {},
   "source": [
    "<p>In this project, I implement K-Means clustering with Python and Scikit-Learn. As mentioned earlier, K-Means clustering is used to find intrinsic groups within the unlabelled dataset and draw inferences from them. I have used <span style=\"color:red\">Facebook Live Sellers in Thailand dataset</span> for this project. I implement K-Means clustering to find intrinsic groups within this dataset that display the same <span style=\"color:blue\">status_type</span> behaviour. The <span style=\"color:blue\">status_type</span> behaviour variable consists of posts of a different nature (video, photos, statuses and links).</p>"
   ]
  },
  {
   "cell_type": "markdown",
   "id": "c290bded",
   "metadata": {},
   "source": [
    "# Dataset Description :"
   ]
  },
  {
   "cell_type": "markdown",
   "id": "5ad9a4f7",
   "metadata": {},
   "source": [
    "<p>6. Dataset description\n",
    "In this project, I have used Facebook Live Sellers in Thailand Dataset, downloaded from the UCI Machine Learning repository. The dataset can be found at the following url-</p><br>\n",
    "<a href=\"https://archive.ics.uci.edu/ml/datasets/Facebook+Live+Sellers+in+Thailand\">Dataset</a>"
   ]
  },
  {
   "cell_type": "markdown",
   "id": "9c1cbcd1",
   "metadata": {},
   "source": [
    "# Importing Libraries :"
   ]
  },
  {
   "cell_type": "code",
   "execution_count": 1,
   "id": "58fb97af",
   "metadata": {},
   "outputs": [],
   "source": [
    "import numpy as np\n",
    "import pandas as pd\n",
    "import matplotlib.pyplot as plt\n",
    "import seaborn as sns"
   ]
  },
  {
   "cell_type": "code",
   "execution_count": 2,
   "id": "9d432370",
   "metadata": {},
   "outputs": [],
   "source": [
    "# Ignoring warnings\n",
    "\n",
    "import warnings\n",
    "warnings.filterwarnings(\"ignore\")"
   ]
  },
  {
   "cell_type": "markdown",
   "id": "373886ab",
   "metadata": {},
   "source": [
    "# Importing Dataset :\n"
   ]
  },
  {
   "cell_type": "code",
   "execution_count": 3,
   "id": "9badcbf6",
   "metadata": {},
   "outputs": [],
   "source": [
    "data = pd.read_csv(r\"C:\\Users\\PRIYAM\\Documents\\Jupyter\\K-Means_clustering_Project\\Live_20210128.csv\")"
   ]
  },
  {
   "cell_type": "markdown",
   "id": "203af283",
   "metadata": {},
   "source": [
    "# Exploratory Data Analysis :"
   ]
  },
  {
   "cell_type": "code",
   "execution_count": 4,
   "id": "31c32ca3",
   "metadata": {},
   "outputs": [
    {
     "data": {
      "text/plain": [
       "(7050, 16)"
      ]
     },
     "execution_count": 4,
     "metadata": {},
     "output_type": "execute_result"
    }
   ],
   "source": [
    "data.shape"
   ]
  },
  {
   "cell_type": "markdown",
   "id": "5e3d0e66",
   "metadata": {},
   "source": [
    "<p>We can see that there are 7050 instances and 16 attributes in the dataset. In the dataset description, it is given that there are 7051 instances and 12 attributes in the dataset.</p><br>\n",
    "<p>So, we can infer that the first instance is the row header and there are 4 extra attributes in the dataset. Next, we should take a look at the dataset to gain more insight about it.</p>"
   ]
  },
  {
   "cell_type": "code",
   "execution_count": 5,
   "id": "b0834120",
   "metadata": {},
   "outputs": [
    {
     "data": {
      "text/html": [
       "<div>\n",
       "<style scoped>\n",
       "    .dataframe tbody tr th:only-of-type {\n",
       "        vertical-align: middle;\n",
       "    }\n",
       "\n",
       "    .dataframe tbody tr th {\n",
       "        vertical-align: top;\n",
       "    }\n",
       "\n",
       "    .dataframe thead th {\n",
       "        text-align: right;\n",
       "    }\n",
       "</style>\n",
       "<table border=\"1\" class=\"dataframe\">\n",
       "  <thead>\n",
       "    <tr style=\"text-align: right;\">\n",
       "      <th></th>\n",
       "      <th>status_id</th>\n",
       "      <th>status_type</th>\n",
       "      <th>status_published</th>\n",
       "      <th>num_reactions</th>\n",
       "      <th>num_comments</th>\n",
       "      <th>num_shares</th>\n",
       "      <th>num_likes</th>\n",
       "      <th>num_loves</th>\n",
       "      <th>num_wows</th>\n",
       "      <th>num_hahas</th>\n",
       "      <th>num_sads</th>\n",
       "      <th>num_angrys</th>\n",
       "      <th>Column1</th>\n",
       "      <th>Column2</th>\n",
       "      <th>Column3</th>\n",
       "      <th>Column4</th>\n",
       "    </tr>\n",
       "  </thead>\n",
       "  <tbody>\n",
       "    <tr>\n",
       "      <th>0</th>\n",
       "      <td>1</td>\n",
       "      <td>video</td>\n",
       "      <td>4/22/2018 6:00</td>\n",
       "      <td>529</td>\n",
       "      <td>512</td>\n",
       "      <td>262</td>\n",
       "      <td>432</td>\n",
       "      <td>92</td>\n",
       "      <td>3</td>\n",
       "      <td>1</td>\n",
       "      <td>1</td>\n",
       "      <td>0</td>\n",
       "      <td>NaN</td>\n",
       "      <td>NaN</td>\n",
       "      <td>NaN</td>\n",
       "      <td>NaN</td>\n",
       "    </tr>\n",
       "    <tr>\n",
       "      <th>1</th>\n",
       "      <td>2</td>\n",
       "      <td>photo</td>\n",
       "      <td>4/21/2018 22:45</td>\n",
       "      <td>150</td>\n",
       "      <td>0</td>\n",
       "      <td>0</td>\n",
       "      <td>150</td>\n",
       "      <td>0</td>\n",
       "      <td>0</td>\n",
       "      <td>0</td>\n",
       "      <td>0</td>\n",
       "      <td>0</td>\n",
       "      <td>NaN</td>\n",
       "      <td>NaN</td>\n",
       "      <td>NaN</td>\n",
       "      <td>NaN</td>\n",
       "    </tr>\n",
       "    <tr>\n",
       "      <th>2</th>\n",
       "      <td>3</td>\n",
       "      <td>video</td>\n",
       "      <td>4/21/2018 6:17</td>\n",
       "      <td>227</td>\n",
       "      <td>236</td>\n",
       "      <td>57</td>\n",
       "      <td>204</td>\n",
       "      <td>21</td>\n",
       "      <td>1</td>\n",
       "      <td>1</td>\n",
       "      <td>0</td>\n",
       "      <td>0</td>\n",
       "      <td>NaN</td>\n",
       "      <td>NaN</td>\n",
       "      <td>NaN</td>\n",
       "      <td>NaN</td>\n",
       "    </tr>\n",
       "    <tr>\n",
       "      <th>3</th>\n",
       "      <td>4</td>\n",
       "      <td>photo</td>\n",
       "      <td>4/21/2018 2:29</td>\n",
       "      <td>111</td>\n",
       "      <td>0</td>\n",
       "      <td>0</td>\n",
       "      <td>111</td>\n",
       "      <td>0</td>\n",
       "      <td>0</td>\n",
       "      <td>0</td>\n",
       "      <td>0</td>\n",
       "      <td>0</td>\n",
       "      <td>NaN</td>\n",
       "      <td>NaN</td>\n",
       "      <td>NaN</td>\n",
       "      <td>NaN</td>\n",
       "    </tr>\n",
       "    <tr>\n",
       "      <th>4</th>\n",
       "      <td>5</td>\n",
       "      <td>photo</td>\n",
       "      <td>4/18/2018 3:22</td>\n",
       "      <td>213</td>\n",
       "      <td>0</td>\n",
       "      <td>0</td>\n",
       "      <td>204</td>\n",
       "      <td>9</td>\n",
       "      <td>0</td>\n",
       "      <td>0</td>\n",
       "      <td>0</td>\n",
       "      <td>0</td>\n",
       "      <td>NaN</td>\n",
       "      <td>NaN</td>\n",
       "      <td>NaN</td>\n",
       "      <td>NaN</td>\n",
       "    </tr>\n",
       "    <tr>\n",
       "      <th>5</th>\n",
       "      <td>6</td>\n",
       "      <td>photo</td>\n",
       "      <td>4/18/2018 2:14</td>\n",
       "      <td>217</td>\n",
       "      <td>6</td>\n",
       "      <td>0</td>\n",
       "      <td>211</td>\n",
       "      <td>5</td>\n",
       "      <td>1</td>\n",
       "      <td>0</td>\n",
       "      <td>0</td>\n",
       "      <td>0</td>\n",
       "      <td>NaN</td>\n",
       "      <td>NaN</td>\n",
       "      <td>NaN</td>\n",
       "      <td>NaN</td>\n",
       "    </tr>\n",
       "    <tr>\n",
       "      <th>6</th>\n",
       "      <td>7</td>\n",
       "      <td>video</td>\n",
       "      <td>4/18/2018 0:24</td>\n",
       "      <td>503</td>\n",
       "      <td>614</td>\n",
       "      <td>72</td>\n",
       "      <td>418</td>\n",
       "      <td>70</td>\n",
       "      <td>10</td>\n",
       "      <td>2</td>\n",
       "      <td>0</td>\n",
       "      <td>3</td>\n",
       "      <td>NaN</td>\n",
       "      <td>NaN</td>\n",
       "      <td>NaN</td>\n",
       "      <td>NaN</td>\n",
       "    </tr>\n",
       "    <tr>\n",
       "      <th>7</th>\n",
       "      <td>8</td>\n",
       "      <td>video</td>\n",
       "      <td>4/17/2018 7:42</td>\n",
       "      <td>295</td>\n",
       "      <td>453</td>\n",
       "      <td>53</td>\n",
       "      <td>260</td>\n",
       "      <td>32</td>\n",
       "      <td>1</td>\n",
       "      <td>1</td>\n",
       "      <td>0</td>\n",
       "      <td>1</td>\n",
       "      <td>NaN</td>\n",
       "      <td>NaN</td>\n",
       "      <td>NaN</td>\n",
       "      <td>NaN</td>\n",
       "    </tr>\n",
       "    <tr>\n",
       "      <th>8</th>\n",
       "      <td>9</td>\n",
       "      <td>photo</td>\n",
       "      <td>4/17/2018 3:33</td>\n",
       "      <td>203</td>\n",
       "      <td>1</td>\n",
       "      <td>0</td>\n",
       "      <td>198</td>\n",
       "      <td>5</td>\n",
       "      <td>0</td>\n",
       "      <td>0</td>\n",
       "      <td>0</td>\n",
       "      <td>0</td>\n",
       "      <td>NaN</td>\n",
       "      <td>NaN</td>\n",
       "      <td>NaN</td>\n",
       "      <td>NaN</td>\n",
       "    </tr>\n",
       "    <tr>\n",
       "      <th>9</th>\n",
       "      <td>10</td>\n",
       "      <td>photo</td>\n",
       "      <td>4/11/2018 4:53</td>\n",
       "      <td>170</td>\n",
       "      <td>9</td>\n",
       "      <td>1</td>\n",
       "      <td>167</td>\n",
       "      <td>3</td>\n",
       "      <td>0</td>\n",
       "      <td>0</td>\n",
       "      <td>0</td>\n",
       "      <td>0</td>\n",
       "      <td>NaN</td>\n",
       "      <td>NaN</td>\n",
       "      <td>NaN</td>\n",
       "      <td>NaN</td>\n",
       "    </tr>\n",
       "  </tbody>\n",
       "</table>\n",
       "</div>"
      ],
      "text/plain": [
       "   status_id status_type status_published  num_reactions  num_comments  \\\n",
       "0          1       video   4/22/2018 6:00            529           512   \n",
       "1          2       photo  4/21/2018 22:45            150             0   \n",
       "2          3       video   4/21/2018 6:17            227           236   \n",
       "3          4       photo   4/21/2018 2:29            111             0   \n",
       "4          5       photo   4/18/2018 3:22            213             0   \n",
       "5          6       photo   4/18/2018 2:14            217             6   \n",
       "6          7       video   4/18/2018 0:24            503           614   \n",
       "7          8       video   4/17/2018 7:42            295           453   \n",
       "8          9       photo   4/17/2018 3:33            203             1   \n",
       "9         10       photo   4/11/2018 4:53            170             9   \n",
       "\n",
       "   num_shares  num_likes  num_loves  num_wows  num_hahas  num_sads  \\\n",
       "0         262        432         92         3          1         1   \n",
       "1           0        150          0         0          0         0   \n",
       "2          57        204         21         1          1         0   \n",
       "3           0        111          0         0          0         0   \n",
       "4           0        204          9         0          0         0   \n",
       "5           0        211          5         1          0         0   \n",
       "6          72        418         70        10          2         0   \n",
       "7          53        260         32         1          1         0   \n",
       "8           0        198          5         0          0         0   \n",
       "9           1        167          3         0          0         0   \n",
       "\n",
       "   num_angrys  Column1  Column2  Column3  Column4  \n",
       "0           0      NaN      NaN      NaN      NaN  \n",
       "1           0      NaN      NaN      NaN      NaN  \n",
       "2           0      NaN      NaN      NaN      NaN  \n",
       "3           0      NaN      NaN      NaN      NaN  \n",
       "4           0      NaN      NaN      NaN      NaN  \n",
       "5           0      NaN      NaN      NaN      NaN  \n",
       "6           3      NaN      NaN      NaN      NaN  \n",
       "7           1      NaN      NaN      NaN      NaN  \n",
       "8           0      NaN      NaN      NaN      NaN  \n",
       "9           0      NaN      NaN      NaN      NaN  "
      ]
     },
     "execution_count": 5,
     "metadata": {},
     "output_type": "execute_result"
    }
   ],
   "source": [
    "# First 10 rows of the data\n",
    "data.head(10)"
   ]
  },
  {
   "cell_type": "code",
   "execution_count": 6,
   "id": "63b54127",
   "metadata": {},
   "outputs": [
    {
     "name": "stdout",
     "output_type": "stream",
     "text": [
      "<class 'pandas.core.frame.DataFrame'>\n",
      "RangeIndex: 7050 entries, 0 to 7049\n",
      "Data columns (total 16 columns):\n",
      " #   Column            Non-Null Count  Dtype  \n",
      "---  ------            --------------  -----  \n",
      " 0   status_id         7050 non-null   int64  \n",
      " 1   status_type       7050 non-null   object \n",
      " 2   status_published  7050 non-null   object \n",
      " 3   num_reactions     7050 non-null   int64  \n",
      " 4   num_comments      7050 non-null   int64  \n",
      " 5   num_shares        7050 non-null   int64  \n",
      " 6   num_likes         7050 non-null   int64  \n",
      " 7   num_loves         7050 non-null   int64  \n",
      " 8   num_wows          7050 non-null   int64  \n",
      " 9   num_hahas         7050 non-null   int64  \n",
      " 10  num_sads          7050 non-null   int64  \n",
      " 11  num_angrys        7050 non-null   int64  \n",
      " 12  Column1           0 non-null      float64\n",
      " 13  Column2           0 non-null      float64\n",
      " 14  Column3           0 non-null      float64\n",
      " 15  Column4           0 non-null      float64\n",
      "dtypes: float64(4), int64(10), object(2)\n",
      "memory usage: 881.4+ KB\n"
     ]
    }
   ],
   "source": [
    "# To know the basic information of the data\n",
    "data.info()"
   ]
  },
  {
   "cell_type": "markdown",
   "id": "2dad8564",
   "metadata": {},
   "source": [
    "<h3>Checking for missing values :</h3>"
   ]
  },
  {
   "cell_type": "code",
   "execution_count": 7,
   "id": "de74df76",
   "metadata": {},
   "outputs": [
    {
     "data": {
      "text/plain": [
       "status_id              0\n",
       "status_type            0\n",
       "status_published       0\n",
       "num_reactions          0\n",
       "num_comments           0\n",
       "num_shares             0\n",
       "num_likes              0\n",
       "num_loves              0\n",
       "num_wows               0\n",
       "num_hahas              0\n",
       "num_sads               0\n",
       "num_angrys             0\n",
       "Column1             7050\n",
       "Column2             7050\n",
       "Column3             7050\n",
       "Column4             7050\n",
       "dtype: int64"
      ]
     },
     "execution_count": 7,
     "metadata": {},
     "output_type": "execute_result"
    }
   ],
   "source": [
    "data.isnull().sum()"
   ]
  },
  {
   "cell_type": "markdown",
   "id": "4f854a06",
   "metadata": {},
   "source": [
    "We can see that there are 4 redundant columns in the dataset. We should drop them before proceeding further."
   ]
  },
  {
   "cell_type": "code",
   "execution_count": 8,
   "id": "e23c9b63",
   "metadata": {},
   "outputs": [],
   "source": [
    "# Dropping the redudant columns\n",
    "data.drop(['Column1','Column2','Column3','Column4'],axis = 1,inplace=True)"
   ]
  },
  {
   "cell_type": "code",
   "execution_count": 9,
   "id": "f7021af4",
   "metadata": {},
   "outputs": [
    {
     "name": "stdout",
     "output_type": "stream",
     "text": [
      "<class 'pandas.core.frame.DataFrame'>\n",
      "RangeIndex: 7050 entries, 0 to 7049\n",
      "Data columns (total 12 columns):\n",
      " #   Column            Non-Null Count  Dtype \n",
      "---  ------            --------------  ----- \n",
      " 0   status_id         7050 non-null   int64 \n",
      " 1   status_type       7050 non-null   object\n",
      " 2   status_published  7050 non-null   object\n",
      " 3   num_reactions     7050 non-null   int64 \n",
      " 4   num_comments      7050 non-null   int64 \n",
      " 5   num_shares        7050 non-null   int64 \n",
      " 6   num_likes         7050 non-null   int64 \n",
      " 7   num_loves         7050 non-null   int64 \n",
      " 8   num_wows          7050 non-null   int64 \n",
      " 9   num_hahas         7050 non-null   int64 \n",
      " 10  num_sads          7050 non-null   int64 \n",
      " 11  num_angrys        7050 non-null   int64 \n",
      "dtypes: int64(10), object(2)\n",
      "memory usage: 661.1+ KB\n"
     ]
    }
   ],
   "source": [
    "data.info()"
   ]
  },
  {
   "cell_type": "code",
   "execution_count": 10,
   "id": "85cf0eec",
   "metadata": {},
   "outputs": [
    {
     "data": {
      "text/html": [
       "<div>\n",
       "<style scoped>\n",
       "    .dataframe tbody tr th:only-of-type {\n",
       "        vertical-align: middle;\n",
       "    }\n",
       "\n",
       "    .dataframe tbody tr th {\n",
       "        vertical-align: top;\n",
       "    }\n",
       "\n",
       "    .dataframe thead th {\n",
       "        text-align: right;\n",
       "    }\n",
       "</style>\n",
       "<table border=\"1\" class=\"dataframe\">\n",
       "  <thead>\n",
       "    <tr style=\"text-align: right;\">\n",
       "      <th></th>\n",
       "      <th>status_id</th>\n",
       "      <th>num_reactions</th>\n",
       "      <th>num_comments</th>\n",
       "      <th>num_shares</th>\n",
       "      <th>num_likes</th>\n",
       "      <th>num_loves</th>\n",
       "      <th>num_wows</th>\n",
       "      <th>num_hahas</th>\n",
       "      <th>num_sads</th>\n",
       "      <th>num_angrys</th>\n",
       "    </tr>\n",
       "  </thead>\n",
       "  <tbody>\n",
       "    <tr>\n",
       "      <th>count</th>\n",
       "      <td>7050.000000</td>\n",
       "      <td>7050.000000</td>\n",
       "      <td>7050.000000</td>\n",
       "      <td>7050.000000</td>\n",
       "      <td>7050.000000</td>\n",
       "      <td>7050.000000</td>\n",
       "      <td>7050.000000</td>\n",
       "      <td>7050.000000</td>\n",
       "      <td>7050.000000</td>\n",
       "      <td>7050.000000</td>\n",
       "    </tr>\n",
       "    <tr>\n",
       "      <th>mean</th>\n",
       "      <td>3525.500000</td>\n",
       "      <td>230.117163</td>\n",
       "      <td>224.356028</td>\n",
       "      <td>40.022553</td>\n",
       "      <td>215.043121</td>\n",
       "      <td>12.728652</td>\n",
       "      <td>1.289362</td>\n",
       "      <td>0.696454</td>\n",
       "      <td>0.243688</td>\n",
       "      <td>0.113191</td>\n",
       "    </tr>\n",
       "    <tr>\n",
       "      <th>std</th>\n",
       "      <td>2035.304031</td>\n",
       "      <td>462.625309</td>\n",
       "      <td>889.636820</td>\n",
       "      <td>131.599965</td>\n",
       "      <td>449.472357</td>\n",
       "      <td>39.972930</td>\n",
       "      <td>8.719650</td>\n",
       "      <td>3.957183</td>\n",
       "      <td>1.597156</td>\n",
       "      <td>0.726812</td>\n",
       "    </tr>\n",
       "    <tr>\n",
       "      <th>min</th>\n",
       "      <td>1.000000</td>\n",
       "      <td>0.000000</td>\n",
       "      <td>0.000000</td>\n",
       "      <td>0.000000</td>\n",
       "      <td>0.000000</td>\n",
       "      <td>0.000000</td>\n",
       "      <td>0.000000</td>\n",
       "      <td>0.000000</td>\n",
       "      <td>0.000000</td>\n",
       "      <td>0.000000</td>\n",
       "    </tr>\n",
       "    <tr>\n",
       "      <th>25%</th>\n",
       "      <td>1763.250000</td>\n",
       "      <td>17.000000</td>\n",
       "      <td>0.000000</td>\n",
       "      <td>0.000000</td>\n",
       "      <td>17.000000</td>\n",
       "      <td>0.000000</td>\n",
       "      <td>0.000000</td>\n",
       "      <td>0.000000</td>\n",
       "      <td>0.000000</td>\n",
       "      <td>0.000000</td>\n",
       "    </tr>\n",
       "    <tr>\n",
       "      <th>50%</th>\n",
       "      <td>3525.500000</td>\n",
       "      <td>59.500000</td>\n",
       "      <td>4.000000</td>\n",
       "      <td>0.000000</td>\n",
       "      <td>58.000000</td>\n",
       "      <td>0.000000</td>\n",
       "      <td>0.000000</td>\n",
       "      <td>0.000000</td>\n",
       "      <td>0.000000</td>\n",
       "      <td>0.000000</td>\n",
       "    </tr>\n",
       "    <tr>\n",
       "      <th>75%</th>\n",
       "      <td>5287.750000</td>\n",
       "      <td>219.000000</td>\n",
       "      <td>23.000000</td>\n",
       "      <td>4.000000</td>\n",
       "      <td>184.750000</td>\n",
       "      <td>3.000000</td>\n",
       "      <td>0.000000</td>\n",
       "      <td>0.000000</td>\n",
       "      <td>0.000000</td>\n",
       "      <td>0.000000</td>\n",
       "    </tr>\n",
       "    <tr>\n",
       "      <th>max</th>\n",
       "      <td>7050.000000</td>\n",
       "      <td>4710.000000</td>\n",
       "      <td>20990.000000</td>\n",
       "      <td>3424.000000</td>\n",
       "      <td>4710.000000</td>\n",
       "      <td>657.000000</td>\n",
       "      <td>278.000000</td>\n",
       "      <td>157.000000</td>\n",
       "      <td>51.000000</td>\n",
       "      <td>31.000000</td>\n",
       "    </tr>\n",
       "  </tbody>\n",
       "</table>\n",
       "</div>"
      ],
      "text/plain": [
       "         status_id  num_reactions  num_comments   num_shares    num_likes  \\\n",
       "count  7050.000000    7050.000000   7050.000000  7050.000000  7050.000000   \n",
       "mean   3525.500000     230.117163    224.356028    40.022553   215.043121   \n",
       "std    2035.304031     462.625309    889.636820   131.599965   449.472357   \n",
       "min       1.000000       0.000000      0.000000     0.000000     0.000000   \n",
       "25%    1763.250000      17.000000      0.000000     0.000000    17.000000   \n",
       "50%    3525.500000      59.500000      4.000000     0.000000    58.000000   \n",
       "75%    5287.750000     219.000000     23.000000     4.000000   184.750000   \n",
       "max    7050.000000    4710.000000  20990.000000  3424.000000  4710.000000   \n",
       "\n",
       "         num_loves     num_wows    num_hahas     num_sads   num_angrys  \n",
       "count  7050.000000  7050.000000  7050.000000  7050.000000  7050.000000  \n",
       "mean     12.728652     1.289362     0.696454     0.243688     0.113191  \n",
       "std      39.972930     8.719650     3.957183     1.597156     0.726812  \n",
       "min       0.000000     0.000000     0.000000     0.000000     0.000000  \n",
       "25%       0.000000     0.000000     0.000000     0.000000     0.000000  \n",
       "50%       0.000000     0.000000     0.000000     0.000000     0.000000  \n",
       "75%       3.000000     0.000000     0.000000     0.000000     0.000000  \n",
       "max     657.000000   278.000000   157.000000    51.000000    31.000000  "
      ]
     },
     "execution_count": 10,
     "metadata": {},
     "output_type": "execute_result"
    }
   ],
   "source": [
    "data.describe()"
   ]
  },
  {
   "cell_type": "markdown",
   "id": "0ecad986",
   "metadata": {},
   "source": [
    "There are 2 catagorical variables in the dataset and i will exlore them one by one."
   ]
  },
  {
   "cell_type": "code",
   "execution_count": 11,
   "id": "5a8fefc6",
   "metadata": {},
   "outputs": [
    {
     "data": {
      "text/plain": [
       "7050"
      ]
     },
     "execution_count": 11,
     "metadata": {},
     "output_type": "execute_result"
    }
   ],
   "source": [
    "len(data['status_id'].unique())"
   ]
  },
  {
   "cell_type": "markdown",
   "id": "7f8c5cde",
   "metadata": {},
   "source": [
    "<h3>Exploring status_published variable</h3>"
   ]
  },
  {
   "cell_type": "code",
   "execution_count": 12,
   "id": "1ee9795c",
   "metadata": {},
   "outputs": [
    {
     "data": {
      "text/plain": [
       "6913"
      ]
     },
     "execution_count": 12,
     "metadata": {},
     "output_type": "execute_result"
    }
   ],
   "source": [
    "len(data['status_published'].unique())"
   ]
  },
  {
   "cell_type": "markdown",
   "id": "b142cd56",
   "metadata": {},
   "source": [
    "We can see that there are 6913 unique labels in the status_published variable. The total number of instances in the dataset is 7050. So, it is also a approximately a unique identifier for each of the instances. Thus this is not a variable that we can use. Hence, I will drop it."
   ]
  },
  {
   "cell_type": "markdown",
   "id": "708a28ad",
   "metadata": {},
   "source": [
    "<h3>Exploring status_type variable</h3>"
   ]
  },
  {
   "cell_type": "code",
   "execution_count": 13,
   "id": "b4ef03bd",
   "metadata": {},
   "outputs": [
    {
     "data": {
      "text/plain": [
       "4"
      ]
     },
     "execution_count": 13,
     "metadata": {},
     "output_type": "execute_result"
    }
   ],
   "source": [
    "len(data['status_type'].unique())"
   ]
  },
  {
   "cell_type": "code",
   "execution_count": 14,
   "id": "66b545a2",
   "metadata": {},
   "outputs": [
    {
     "data": {
      "text/plain": [
       "array(['video', 'photo', 'link', 'status'], dtype=object)"
      ]
     },
     "execution_count": 14,
     "metadata": {},
     "output_type": "execute_result"
    }
   ],
   "source": [
    "data['status_type'].unique()"
   ]
  },
  {
   "cell_type": "markdown",
   "id": "d81883fb",
   "metadata": {},
   "source": [
    "We can see that there are 4 categories of labels in the status_type variable."
   ]
  },
  {
   "cell_type": "code",
   "execution_count": 15,
   "id": "2379be62",
   "metadata": {},
   "outputs": [],
   "source": [
    "# Drop the status_published variable from dataset\n",
    "\n",
    "data.drop(['status_published'],axis=1,inplace=True)"
   ]
  },
  {
   "cell_type": "markdown",
   "id": "9011fb9d",
   "metadata": {},
   "source": [
    "<h2>View summary again : </h2>"
   ]
  },
  {
   "cell_type": "code",
   "execution_count": 16,
   "id": "0f7d5d91",
   "metadata": {},
   "outputs": [
    {
     "name": "stdout",
     "output_type": "stream",
     "text": [
      "<class 'pandas.core.frame.DataFrame'>\n",
      "RangeIndex: 7050 entries, 0 to 7049\n",
      "Data columns (total 11 columns):\n",
      " #   Column         Non-Null Count  Dtype \n",
      "---  ------         --------------  ----- \n",
      " 0   status_id      7050 non-null   int64 \n",
      " 1   status_type    7050 non-null   object\n",
      " 2   num_reactions  7050 non-null   int64 \n",
      " 3   num_comments   7050 non-null   int64 \n",
      " 4   num_shares     7050 non-null   int64 \n",
      " 5   num_likes      7050 non-null   int64 \n",
      " 6   num_loves      7050 non-null   int64 \n",
      " 7   num_wows       7050 non-null   int64 \n",
      " 8   num_hahas      7050 non-null   int64 \n",
      " 9   num_sads       7050 non-null   int64 \n",
      " 10  num_angrys     7050 non-null   int64 \n",
      "dtypes: int64(10), object(1)\n",
      "memory usage: 606.0+ KB\n"
     ]
    }
   ],
   "source": [
    "data.info()"
   ]
  },
  {
   "cell_type": "code",
   "execution_count": 17,
   "id": "477a5f4d",
   "metadata": {},
   "outputs": [
    {
     "data": {
      "text/html": [
       "<div>\n",
       "<style scoped>\n",
       "    .dataframe tbody tr th:only-of-type {\n",
       "        vertical-align: middle;\n",
       "    }\n",
       "\n",
       "    .dataframe tbody tr th {\n",
       "        vertical-align: top;\n",
       "    }\n",
       "\n",
       "    .dataframe thead th {\n",
       "        text-align: right;\n",
       "    }\n",
       "</style>\n",
       "<table border=\"1\" class=\"dataframe\">\n",
       "  <thead>\n",
       "    <tr style=\"text-align: right;\">\n",
       "      <th></th>\n",
       "      <th>status_id</th>\n",
       "      <th>status_type</th>\n",
       "      <th>num_reactions</th>\n",
       "      <th>num_comments</th>\n",
       "      <th>num_shares</th>\n",
       "      <th>num_likes</th>\n",
       "      <th>num_loves</th>\n",
       "      <th>num_wows</th>\n",
       "      <th>num_hahas</th>\n",
       "      <th>num_sads</th>\n",
       "      <th>num_angrys</th>\n",
       "    </tr>\n",
       "  </thead>\n",
       "  <tbody>\n",
       "    <tr>\n",
       "      <th>0</th>\n",
       "      <td>1</td>\n",
       "      <td>video</td>\n",
       "      <td>529</td>\n",
       "      <td>512</td>\n",
       "      <td>262</td>\n",
       "      <td>432</td>\n",
       "      <td>92</td>\n",
       "      <td>3</td>\n",
       "      <td>1</td>\n",
       "      <td>1</td>\n",
       "      <td>0</td>\n",
       "    </tr>\n",
       "    <tr>\n",
       "      <th>1</th>\n",
       "      <td>2</td>\n",
       "      <td>photo</td>\n",
       "      <td>150</td>\n",
       "      <td>0</td>\n",
       "      <td>0</td>\n",
       "      <td>150</td>\n",
       "      <td>0</td>\n",
       "      <td>0</td>\n",
       "      <td>0</td>\n",
       "      <td>0</td>\n",
       "      <td>0</td>\n",
       "    </tr>\n",
       "    <tr>\n",
       "      <th>2</th>\n",
       "      <td>3</td>\n",
       "      <td>video</td>\n",
       "      <td>227</td>\n",
       "      <td>236</td>\n",
       "      <td>57</td>\n",
       "      <td>204</td>\n",
       "      <td>21</td>\n",
       "      <td>1</td>\n",
       "      <td>1</td>\n",
       "      <td>0</td>\n",
       "      <td>0</td>\n",
       "    </tr>\n",
       "    <tr>\n",
       "      <th>3</th>\n",
       "      <td>4</td>\n",
       "      <td>photo</td>\n",
       "      <td>111</td>\n",
       "      <td>0</td>\n",
       "      <td>0</td>\n",
       "      <td>111</td>\n",
       "      <td>0</td>\n",
       "      <td>0</td>\n",
       "      <td>0</td>\n",
       "      <td>0</td>\n",
       "      <td>0</td>\n",
       "    </tr>\n",
       "    <tr>\n",
       "      <th>4</th>\n",
       "      <td>5</td>\n",
       "      <td>photo</td>\n",
       "      <td>213</td>\n",
       "      <td>0</td>\n",
       "      <td>0</td>\n",
       "      <td>204</td>\n",
       "      <td>9</td>\n",
       "      <td>0</td>\n",
       "      <td>0</td>\n",
       "      <td>0</td>\n",
       "      <td>0</td>\n",
       "    </tr>\n",
       "  </tbody>\n",
       "</table>\n",
       "</div>"
      ],
      "text/plain": [
       "   status_id status_type  num_reactions  num_comments  num_shares  num_likes  \\\n",
       "0          1       video            529           512         262        432   \n",
       "1          2       photo            150             0           0        150   \n",
       "2          3       video            227           236          57        204   \n",
       "3          4       photo            111             0           0        111   \n",
       "4          5       photo            213             0           0        204   \n",
       "\n",
       "   num_loves  num_wows  num_hahas  num_sads  num_angrys  \n",
       "0         92         3          1         1           0  \n",
       "1          0         0          0         0           0  \n",
       "2         21         1          1         0           0  \n",
       "3          0         0          0         0           0  \n",
       "4          9         0          0         0           0  "
      ]
     },
     "execution_count": 17,
     "metadata": {},
     "output_type": "execute_result"
    }
   ],
   "source": [
    "data.head()"
   ]
  },
  {
   "cell_type": "markdown",
   "id": "3b0e3fb9",
   "metadata": {},
   "source": [
    "We can see that there is 1 non-numeric column status_type in the dataset. I will convert it into integer equivalents."
   ]
  },
  {
   "cell_type": "markdown",
   "id": "41b27544",
   "metadata": {},
   "source": [
    "# Declare feature vector and target variable :\n"
   ]
  },
  {
   "cell_type": "code",
   "execution_count": 18,
   "id": "1395fe9a",
   "metadata": {},
   "outputs": [],
   "source": [
    "X = data\n",
    "y = data['status_type']"
   ]
  },
  {
   "cell_type": "markdown",
   "id": "44648b1f",
   "metadata": {},
   "source": [
    "# Convert categorical variable into integer : "
   ]
  },
  {
   "cell_type": "code",
   "execution_count": 19,
   "id": "fd34260e",
   "metadata": {},
   "outputs": [],
   "source": [
    "from sklearn.preprocessing import LabelEncoder\n",
    "\n",
    "le = LabelEncoder()\n",
    "\n",
    "X['status_type'] = le.fit_transform(X['status_type'])\n",
    "\n",
    "y = le.transform(y)"
   ]
  },
  {
   "cell_type": "code",
   "execution_count": 20,
   "id": "341c2f59",
   "metadata": {},
   "outputs": [
    {
     "name": "stdout",
     "output_type": "stream",
     "text": [
      "<class 'pandas.core.frame.DataFrame'>\n",
      "RangeIndex: 7050 entries, 0 to 7049\n",
      "Data columns (total 11 columns):\n",
      " #   Column         Non-Null Count  Dtype\n",
      "---  ------         --------------  -----\n",
      " 0   status_id      7050 non-null   int64\n",
      " 1   status_type    7050 non-null   int32\n",
      " 2   num_reactions  7050 non-null   int64\n",
      " 3   num_comments   7050 non-null   int64\n",
      " 4   num_shares     7050 non-null   int64\n",
      " 5   num_likes      7050 non-null   int64\n",
      " 6   num_loves      7050 non-null   int64\n",
      " 7   num_wows       7050 non-null   int64\n",
      " 8   num_hahas      7050 non-null   int64\n",
      " 9   num_sads       7050 non-null   int64\n",
      " 10  num_angrys     7050 non-null   int64\n",
      "dtypes: int32(1), int64(10)\n",
      "memory usage: 578.4 KB\n"
     ]
    }
   ],
   "source": [
    "X.info()"
   ]
  },
  {
   "cell_type": "code",
   "execution_count": 21,
   "id": "fae1a08e",
   "metadata": {},
   "outputs": [
    {
     "data": {
      "text/html": [
       "<div>\n",
       "<style scoped>\n",
       "    .dataframe tbody tr th:only-of-type {\n",
       "        vertical-align: middle;\n",
       "    }\n",
       "\n",
       "    .dataframe tbody tr th {\n",
       "        vertical-align: top;\n",
       "    }\n",
       "\n",
       "    .dataframe thead th {\n",
       "        text-align: right;\n",
       "    }\n",
       "</style>\n",
       "<table border=\"1\" class=\"dataframe\">\n",
       "  <thead>\n",
       "    <tr style=\"text-align: right;\">\n",
       "      <th></th>\n",
       "      <th>status_id</th>\n",
       "      <th>status_type</th>\n",
       "      <th>num_reactions</th>\n",
       "      <th>num_comments</th>\n",
       "      <th>num_shares</th>\n",
       "      <th>num_likes</th>\n",
       "      <th>num_loves</th>\n",
       "      <th>num_wows</th>\n",
       "      <th>num_hahas</th>\n",
       "      <th>num_sads</th>\n",
       "      <th>num_angrys</th>\n",
       "    </tr>\n",
       "  </thead>\n",
       "  <tbody>\n",
       "    <tr>\n",
       "      <th>0</th>\n",
       "      <td>1</td>\n",
       "      <td>3</td>\n",
       "      <td>529</td>\n",
       "      <td>512</td>\n",
       "      <td>262</td>\n",
       "      <td>432</td>\n",
       "      <td>92</td>\n",
       "      <td>3</td>\n",
       "      <td>1</td>\n",
       "      <td>1</td>\n",
       "      <td>0</td>\n",
       "    </tr>\n",
       "    <tr>\n",
       "      <th>1</th>\n",
       "      <td>2</td>\n",
       "      <td>1</td>\n",
       "      <td>150</td>\n",
       "      <td>0</td>\n",
       "      <td>0</td>\n",
       "      <td>150</td>\n",
       "      <td>0</td>\n",
       "      <td>0</td>\n",
       "      <td>0</td>\n",
       "      <td>0</td>\n",
       "      <td>0</td>\n",
       "    </tr>\n",
       "    <tr>\n",
       "      <th>2</th>\n",
       "      <td>3</td>\n",
       "      <td>3</td>\n",
       "      <td>227</td>\n",
       "      <td>236</td>\n",
       "      <td>57</td>\n",
       "      <td>204</td>\n",
       "      <td>21</td>\n",
       "      <td>1</td>\n",
       "      <td>1</td>\n",
       "      <td>0</td>\n",
       "      <td>0</td>\n",
       "    </tr>\n",
       "    <tr>\n",
       "      <th>3</th>\n",
       "      <td>4</td>\n",
       "      <td>1</td>\n",
       "      <td>111</td>\n",
       "      <td>0</td>\n",
       "      <td>0</td>\n",
       "      <td>111</td>\n",
       "      <td>0</td>\n",
       "      <td>0</td>\n",
       "      <td>0</td>\n",
       "      <td>0</td>\n",
       "      <td>0</td>\n",
       "    </tr>\n",
       "    <tr>\n",
       "      <th>4</th>\n",
       "      <td>5</td>\n",
       "      <td>1</td>\n",
       "      <td>213</td>\n",
       "      <td>0</td>\n",
       "      <td>0</td>\n",
       "      <td>204</td>\n",
       "      <td>9</td>\n",
       "      <td>0</td>\n",
       "      <td>0</td>\n",
       "      <td>0</td>\n",
       "      <td>0</td>\n",
       "    </tr>\n",
       "  </tbody>\n",
       "</table>\n",
       "</div>"
      ],
      "text/plain": [
       "   status_id  status_type  num_reactions  num_comments  num_shares  num_likes  \\\n",
       "0          1            3            529           512         262        432   \n",
       "1          2            1            150             0           0        150   \n",
       "2          3            3            227           236          57        204   \n",
       "3          4            1            111             0           0        111   \n",
       "4          5            1            213             0           0        204   \n",
       "\n",
       "   num_loves  num_wows  num_hahas  num_sads  num_angrys  \n",
       "0         92         3          1         1           0  \n",
       "1          0         0          0         0           0  \n",
       "2         21         1          1         0           0  \n",
       "3          0         0          0         0           0  \n",
       "4          9         0          0         0           0  "
      ]
     },
     "execution_count": 21,
     "metadata": {},
     "output_type": "execute_result"
    }
   ],
   "source": [
    "X.head()"
   ]
  },
  {
   "cell_type": "markdown",
   "id": "677813c0",
   "metadata": {},
   "source": [
    "# Feature Scaling :\n"
   ]
  },
  {
   "cell_type": "code",
   "execution_count": 22,
   "id": "927cd6a1",
   "metadata": {},
   "outputs": [],
   "source": [
    "col = X.columns"
   ]
  },
  {
   "cell_type": "code",
   "execution_count": 23,
   "id": "a5df6b98",
   "metadata": {},
   "outputs": [],
   "source": [
    "from sklearn.preprocessing import MinMaxScaler\n",
    "\n",
    "ms = MinMaxScaler()\n",
    "\n",
    "X = ms.fit_transform(X)"
   ]
  },
  {
   "cell_type": "code",
   "execution_count": 24,
   "id": "4625985f",
   "metadata": {},
   "outputs": [],
   "source": [
    "X = pd.DataFrame(X,columns=[col])"
   ]
  },
  {
   "cell_type": "code",
   "execution_count": 25,
   "id": "2070c01f",
   "metadata": {},
   "outputs": [
    {
     "data": {
      "text/html": [
       "<div>\n",
       "<style scoped>\n",
       "    .dataframe tbody tr th:only-of-type {\n",
       "        vertical-align: middle;\n",
       "    }\n",
       "\n",
       "    .dataframe tbody tr th {\n",
       "        vertical-align: top;\n",
       "    }\n",
       "\n",
       "    .dataframe thead tr th {\n",
       "        text-align: left;\n",
       "    }\n",
       "</style>\n",
       "<table border=\"1\" class=\"dataframe\">\n",
       "  <thead>\n",
       "    <tr>\n",
       "      <th></th>\n",
       "      <th>status_id</th>\n",
       "      <th>status_type</th>\n",
       "      <th>num_reactions</th>\n",
       "      <th>num_comments</th>\n",
       "      <th>num_shares</th>\n",
       "      <th>num_likes</th>\n",
       "      <th>num_loves</th>\n",
       "      <th>num_wows</th>\n",
       "      <th>num_hahas</th>\n",
       "      <th>num_sads</th>\n",
       "      <th>num_angrys</th>\n",
       "    </tr>\n",
       "  </thead>\n",
       "  <tbody>\n",
       "    <tr>\n",
       "      <th>0</th>\n",
       "      <td>0.000000</td>\n",
       "      <td>1.000000</td>\n",
       "      <td>0.112314</td>\n",
       "      <td>0.024393</td>\n",
       "      <td>0.076519</td>\n",
       "      <td>0.091720</td>\n",
       "      <td>0.140030</td>\n",
       "      <td>0.010791</td>\n",
       "      <td>0.006369</td>\n",
       "      <td>0.019608</td>\n",
       "      <td>0.0</td>\n",
       "    </tr>\n",
       "    <tr>\n",
       "      <th>1</th>\n",
       "      <td>0.000142</td>\n",
       "      <td>0.333333</td>\n",
       "      <td>0.031847</td>\n",
       "      <td>0.000000</td>\n",
       "      <td>0.000000</td>\n",
       "      <td>0.031847</td>\n",
       "      <td>0.000000</td>\n",
       "      <td>0.000000</td>\n",
       "      <td>0.000000</td>\n",
       "      <td>0.000000</td>\n",
       "      <td>0.0</td>\n",
       "    </tr>\n",
       "    <tr>\n",
       "      <th>2</th>\n",
       "      <td>0.000284</td>\n",
       "      <td>1.000000</td>\n",
       "      <td>0.048195</td>\n",
       "      <td>0.011243</td>\n",
       "      <td>0.016647</td>\n",
       "      <td>0.043312</td>\n",
       "      <td>0.031963</td>\n",
       "      <td>0.003597</td>\n",
       "      <td>0.006369</td>\n",
       "      <td>0.000000</td>\n",
       "      <td>0.0</td>\n",
       "    </tr>\n",
       "    <tr>\n",
       "      <th>3</th>\n",
       "      <td>0.000426</td>\n",
       "      <td>0.333333</td>\n",
       "      <td>0.023567</td>\n",
       "      <td>0.000000</td>\n",
       "      <td>0.000000</td>\n",
       "      <td>0.023567</td>\n",
       "      <td>0.000000</td>\n",
       "      <td>0.000000</td>\n",
       "      <td>0.000000</td>\n",
       "      <td>0.000000</td>\n",
       "      <td>0.0</td>\n",
       "    </tr>\n",
       "    <tr>\n",
       "      <th>4</th>\n",
       "      <td>0.000567</td>\n",
       "      <td>0.333333</td>\n",
       "      <td>0.045223</td>\n",
       "      <td>0.000000</td>\n",
       "      <td>0.000000</td>\n",
       "      <td>0.043312</td>\n",
       "      <td>0.013699</td>\n",
       "      <td>0.000000</td>\n",
       "      <td>0.000000</td>\n",
       "      <td>0.000000</td>\n",
       "      <td>0.0</td>\n",
       "    </tr>\n",
       "  </tbody>\n",
       "</table>\n",
       "</div>"
      ],
      "text/plain": [
       "  status_id status_type num_reactions num_comments num_shares num_likes  \\\n",
       "0  0.000000    1.000000      0.112314     0.024393   0.076519  0.091720   \n",
       "1  0.000142    0.333333      0.031847     0.000000   0.000000  0.031847   \n",
       "2  0.000284    1.000000      0.048195     0.011243   0.016647  0.043312   \n",
       "3  0.000426    0.333333      0.023567     0.000000   0.000000  0.023567   \n",
       "4  0.000567    0.333333      0.045223     0.000000   0.000000  0.043312   \n",
       "\n",
       "  num_loves  num_wows num_hahas  num_sads num_angrys  \n",
       "0  0.140030  0.010791  0.006369  0.019608        0.0  \n",
       "1  0.000000  0.000000  0.000000  0.000000        0.0  \n",
       "2  0.031963  0.003597  0.006369  0.000000        0.0  \n",
       "3  0.000000  0.000000  0.000000  0.000000        0.0  \n",
       "4  0.013699  0.000000  0.000000  0.000000        0.0  "
      ]
     },
     "execution_count": 25,
     "metadata": {},
     "output_type": "execute_result"
    }
   ],
   "source": [
    "X.head()"
   ]
  },
  {
   "cell_type": "markdown",
   "id": "7b0ebebf",
   "metadata": {},
   "source": [
    "# K-Means with 2 clusters :"
   ]
  },
  {
   "cell_type": "code",
   "execution_count": 26,
   "id": "1defcae7",
   "metadata": {},
   "outputs": [
    {
     "data": {
      "text/plain": [
       "KMeans(n_clusters=2, random_state=0)"
      ]
     },
     "execution_count": 26,
     "metadata": {},
     "output_type": "execute_result"
    }
   ],
   "source": [
    "from sklearn.cluster import KMeans\n",
    "\n",
    "kmeans = KMeans(n_clusters=2,random_state=0)\n",
    "\n",
    "kmeans.fit(X)"
   ]
  },
  {
   "cell_type": "code",
   "execution_count": 27,
   "id": "9512c5ed",
   "metadata": {},
   "outputs": [
    {
     "data": {
      "text/plain": [
       "array([[4.54626777e-01, 3.40500998e-01, 4.30301772e-02, 7.66608414e-04,\n",
       "        7.70054301e-04, 4.25111817e-02, 2.15708127e-03, 2.36751410e-03,\n",
       "        1.17194063e-03, 2.72101747e-03, 1.40159181e-03],\n",
       "       [5.80613866e-01, 9.73086517e-01, 5.92098298e-02, 2.83171472e-02,\n",
       "        3.10880406e-02, 5.12453287e-02, 4.99627426e-02, 8.67191241e-03,\n",
       "        1.02352348e-02, 8.43314876e-03, 7.64842648e-03]])"
      ]
     },
     "execution_count": 27,
     "metadata": {},
     "output_type": "execute_result"
    }
   ],
   "source": [
    "kmeans.cluster_centers_"
   ]
  },
  {
   "cell_type": "markdown",
   "id": "8d49a36b",
   "metadata": {},
   "source": [
    "<ul>\n",
    "    <li><p><b>Inertia</b> measures how well a dataset was clustered by K-Means. It is calculated by measuring the distance between each data point and its centroid, squaring this distance, and summing these squares across one cluster. A good model is one with low inertia AND a low number of clusters ( K ).</p></li>\n",
    "    <li>The k-means algorithm divides a set of N samples X into K disjoint clusters C, each described by the mean j of the samples in the cluster. The means are commonly called the cluster <b>centroids</b>.</li>\n",
    "    <li>The K-means algorithm aims to choose centroids that minimize the inertia, or within-cluster sum of squared criterion.</li></ul>"
   ]
  },
  {
   "cell_type": "code",
   "execution_count": 28,
   "id": "8e10ddb1",
   "metadata": {},
   "outputs": [
    {
     "data": {
      "text/plain": [
       "803.6306836734716"
      ]
     },
     "execution_count": 28,
     "metadata": {},
     "output_type": "execute_result"
    }
   ],
   "source": [
    "kmeans.inertia_"
   ]
  },
  {
   "cell_type": "markdown",
   "id": "34f9b0a8",
   "metadata": {},
   "source": [
    "<ul>\n",
    "    <li>The lesser the Inertia the better the model fits.</li>\n",
    "    <li>We can see the model has very high inertia value.So this is not a good fit to the data.</li>\n",
    "    </ul>"
   ]
  },
  {
   "cell_type": "markdown",
   "id": "b2325083",
   "metadata": {},
   "source": [
    "# Check quality of weak classification by the model :"
   ]
  },
  {
   "cell_type": "code",
   "execution_count": 30,
   "id": "3c1b2056",
   "metadata": {},
   "outputs": [
    {
     "data": {
      "text/plain": [
       "array([1, 0, 1, ..., 0, 0, 0])"
      ]
     },
     "execution_count": 30,
     "metadata": {},
     "output_type": "execute_result"
    }
   ],
   "source": [
    "labels = kmeans.labels_\n",
    "labels"
   ]
  },
  {
   "cell_type": "code",
   "execution_count": 33,
   "id": "e7cf1135",
   "metadata": {},
   "outputs": [
    {
     "name": "stdout",
     "output_type": "stream",
     "text": [
      "Result: 63 out of 7050 samples were correctly labeled.\n",
      "Accuracy score: 0.01\n"
     ]
    }
   ],
   "source": [
    "correct_labels = sum(y == labels)\n",
    "\n",
    "print(\"Result: %d out of %d samples were correctly labeled.\" % (correct_labels, y.size))\n",
    "\n",
    "print('Accuracy score: {0:0.2f}'. format(correct_labels/float(y.size)))"
   ]
  },
  {
   "cell_type": "markdown",
   "id": "63452967",
   "metadata": {},
   "source": [
    "We have achieved a weak cluster accuracy.\n"
   ]
  },
  {
   "cell_type": "markdown",
   "id": "469669ad",
   "metadata": {},
   "source": [
    "# Using Elbow method to find optimal number of clusters :"
   ]
  },
  {
   "cell_type": "code",
   "execution_count": 35,
   "id": "79eee949",
   "metadata": {},
   "outputs": [
    {
     "data": {
      "image/png": "[encoded data removed]",
      "text/plain": [
       "<Figure size 432x288 with 1 Axes>"
      ]
     },
     "metadata": {
      "needs_background": "light"
     },
     "output_type": "display_data"
    }
   ],
   "source": [
    "from sklearn.cluster import KMeans\n",
    "cs=[]\n",
    "for i in range(1,11):\n",
    "    kmeans = KMeans(n_clusters=i,\n",
    "                   init=\"k-means++\",\n",
    "                   max_iter=300,\n",
    "                   n_init=10,\n",
    "                   random_state=0)\n",
    "    kmeans.fit(X)\n",
    "    cs.append(kmeans.inertia_)\n",
    "    \n",
    "plt.plot(range(1,11),cs)\n",
    "plt.title(\"The Elbow Method\")\n",
    "plt.xlabel(\"Number of clusters\")\n",
    "plt.ylabel(\"CS\")\n",
    "plt.show()"
   ]
  },
  {
   "cell_type": "markdown",
   "id": "3ac1c565",
   "metadata": {},
   "source": [
    "<p>By the above plot, we can see that there is a kink at 2.But we got weal accuracy at 2.</p>\n",
    "<p>After 3 the curve is quite balance-paced unlike in other points so, i will take 3 and write the code to see accuracy.</p>"
   ]
  },
  {
   "cell_type": "code",
   "execution_count": 58,
   "id": "9f4b87f8",
   "metadata": {},
   "outputs": [
    {
     "data": {
      "text/plain": [
       "KMeans(n_clusters=3, random_state=0)"
      ]
     },
     "execution_count": 58,
     "metadata": {},
     "output_type": "execute_result"
    }
   ],
   "source": [
    "/from sklearn.cluster import KMeans\n",
    "\n",
    "kmeans = KMeans(n_clusters = 3,random_state=0)\n",
    "\n",
    "kmeans.fit(X)"
   ]
  },
  {
   "cell_type": "code",
   "execution_count": 59,
   "id": "337ebc8c",
   "metadata": {},
   "outputs": [
    {
     "name": "stdout",
     "output_type": "stream",
     "text": [
      "Result : 3055 out of 7050 samples were correctly labeled.\n",
      "Accuracy : 0.43333333333333335\n"
     ]
    }
   ],
   "source": [
    "labels = kmeans.labels_\n",
    "correct_labels = sum(y==labels)\n",
    "print(\"Result : %d out of %d samples were correctly labeled.\" %(correct_labels,len(labels)))\n",
    "print(\"Accuracy : {}\".format(correct_labels/len(labels)))"
   ]
  },
  {
   "cell_type": "markdown",
   "id": "3e3ccfbd",
   "metadata": {},
   "source": [
    "<h4>We have achieved a relatively high accuracy with k=3.</h4>"
   ]
  },
  {
   "cell_type": "markdown",
   "id": "bbaed330",
   "metadata": {},
   "source": [
    "# Result and Conclusion :"
   ]
  },
  {
   "cell_type": "markdown",
   "id": "c7754bb1",
   "metadata": {},
   "source": [
    "<ol>\n",
    "    <li>In this project, I have implemented the most popular unsupervised clustering technique called K-Means Clustering.</li>\n",
    "    <li>I have applied the elbow method and find that k=2 (k is number of clusters) can be considered a good number of cluster to cluster this data.</li>\n",
    "    <li>I have find that the model has very high inertia of 803.6306836734716. So, this is not a good model fit to the data.</li>\n",
    "    <li>I have achieved a weak classification accuracy of 1% with k=2 by our unsupervised model.</li>\n",
    "    <li>So, I have changed the value of k and find relatively higher classification accuracy of 44% with k=3.</li>\n",
    "    <li>Hence, we can conclude that k=4 being the optimal number of clusters.</li>\n",
    "    </ol>\n",
    "\n",
    "\n",
    "    "
   ]
  }
 ],
 "metadata": {
  "kernelspec": {
   "display_name": "Python 3 (ipykernel)",
   "language": "python",
   "name": "python3"
  },
  "language_info": {
   "codemirror_mode": {
    "name": "ipython",
    "version": 3
   },
   "file_extension": ".py",
   "mimetype": "text/x-python",
   "name": "python",
   "nbconvert_exporter": "python",
   "pygments_lexer": "ipython3",
   "version": "3.9.12"
  }
 },
 "nbformat": 4,
 "nbformat_minor": 5
}
